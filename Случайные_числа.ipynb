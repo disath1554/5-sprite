{
  "nbformat": 4,
  "nbformat_minor": 0,
  "metadata": {
    "colab": {
      "name": "Случайные-числа.ipynb",
      "provenance": [],
      "collapsed_sections": [],
      "authorship_tag": "ABX9TyPcovvfgzQCPGHcaPXTk0o6",
      "include_colab_link": true
    },
    "kernelspec": {
      "name": "python3",
      "display_name": "Python 3"
    },
    "language_info": {
      "name": "python"
    }
  },
  "cells": [
    {
      "cell_type": "markdown",
      "metadata": {
        "id": "view-in-github",
        "colab_type": "text"
      },
      "source": [
        "<a href=\"https://colab.research.google.com/github/disath1554/5-sprite/blob/main/%D0%A1%D0%BB%D1%83%D1%87%D0%B0%D0%B9%D0%BD%D1%8B%D0%B5_%D1%87%D0%B8%D1%81%D0%BB%D0%B0.ipynb\" target=\"_parent\"><img src=\"https://colab.research.google.com/assets/colab-badge.svg\" alt=\"Open In Colab\"/></a>"
      ]
    },
    {
      "cell_type": "markdown",
      "source": [
        "# Случайные числа\n",
        "\n",
        "В некоторых задачах, в том числе и компьютерных играх, необходимо моделировать случайные явления, например, результат бросания игрального кубика: на нём может выпасть число от 0 до 6. Как сделать это на компьютере?\n",
        "\n",
        "Для этого математики придумали алгоритмы получения _псевдослучайных_ (\"как бы случайных\") чисел. Такие алгоритмы называют __датчиками случайных чисел__.\n",
        "\n",
        "Функции для работы с псевдослучайными числами собраны в модуле `random`. В библиотеке `Python` используется один из наиболее совершенных алгоритмов для генерации случайных чисел &mdash; \"вихрь Мерсенна\", разработанный  в 1997 году.\n",
        "\n",
        "ДЛя получения псевдослучайных чисел в заданном диапазоне мы будем использовать функции из модуля `random`:\n",
        "* `randint(a, b)`&mdash; случайное целое число на диапазоне `[a, b]`\n",
        "* `uniform(a, b)`&mdash; случайное вещественное число на диапазоне `[a, b]`\n",
        "\n",
        "Для того, чтобы записать в переменную `n` &mdash; случайное целое число на отрезке от 1 до 6, можно использовать такие команды:"
      ],
      "metadata": {
        "id": "ClBU71aaKQWx"
      }
    },
    {
      "cell_type": "code",
      "source": [
        "# Выполните код в ячейке несколько раз\n",
        "from random import randint\n",
        "n = randint(1, 6)\n",
        "print('Это целое случайное число', n)"
      ],
      "metadata": {
        "id": "TxYWCr_8NKn1"
      },
      "execution_count": null,
      "outputs": []
    },
    {
      "cell_type": "markdown",
      "source": [
        "В первой строке из модуля `random` импортируется (загружается функция `randint`, во второй она вызывается для получения случайного числа.\n",
        "\n",
        "Вещественное число на на отрезке [5, 12] получается так:"
      ],
      "metadata": {
        "id": "B3nYUFSvNtFp"
      }
    },
    {
      "cell_type": "code",
      "source": [
        "# Выполните код в ячейке несколько раз\n",
        "from random import uniform\n",
        "x = uniform(5, 12)\n",
        "print('Это вещественное случайное число', x)"
      ],
      "metadata": {
        "id": "9avDlgd5OTvy"
      },
      "execution_count": null,
      "outputs": []
    },
    {
      "cell_type": "markdown",
      "source": [
        "Для того, чтобы получить несколько случайных чисел можно использовать цикл `for`:"
      ],
      "metadata": {
        "id": "_LjN-wUwOmsA"
      }
    },
    {
      "cell_type": "code",
      "source": [
        "# Выполните код в ячейке несколько раз\n",
        "for i in range(5): # повторить 5 раз для i = 0, 1, 2, 3, 4\n",
        "  n = randint(1, 10) # получаем случайное число\n",
        "  print(n, end=' ') # печатаем случайное число без перехода на новую строку"
      ],
      "metadata": {
        "id": "9RJyWB5wOkCX"
      },
      "execution_count": null,
      "outputs": []
    },
    {
      "cell_type": "markdown",
      "source": [
        "Сохраним случайные числа в списке `nums` (от numbers &mdash; числа):"
      ],
      "metadata": {
        "id": "7NDWYMEqPhVI"
      }
    },
    {
      "cell_type": "code",
      "source": [
        "# Выполните код в ячейке несколько раз\n",
        "nums = [] # создадим пустой список\n",
        "for i in range(10): # повторить 20 раз для i = 0, 1, 2, ..., 19\n",
        "  n = randint(10, 99) # получаем случайное число на отрезке от 10 до 99\n",
        "  nums.append(n) # добавляем случайное число в конец списка\n",
        "\n",
        "# Когда цикл закончится в списке nums будет 20 случайных чисел\n",
        "print(nums) # напечатаем список"
      ],
      "metadata": {
        "id": "sht7j8efPf3k"
      },
      "execution_count": null,
      "outputs": []
    },
    {
      "cell_type": "markdown",
      "source": [
        "### <font color='#990000'>Задание 1.</font>\n",
        "В игре \"Русское лото\" из мешка случайным образом выбирают бочонки, на каждом из которых написано случайное число от 1 до 90. Напишите программу, которая выводит наугад первые 5 выигрышных номеров."
      ],
      "metadata": {
        "id": "ofKaTlPyRB2-"
      }
    },
    {
      "cell_type": "code",
      "source": [
        "# Напишите ваш код ниже\n"
      ],
      "metadata": {
        "id": "eIt8X3WSRBEN"
      },
      "execution_count": null,
      "outputs": []
    },
    {
      "cell_type": "markdown",
      "source": [
        "# Визуализация данных\n",
        "\n",
        "`Matplotlib` — это популярная библиотека для визуализации данных, написанная для языка Python. Пользоваться ей очень просто. Выполните код в ячейках ниже."
      ],
      "metadata": {
        "id": "bborSDLdSyme"
      }
    },
    {
      "cell_type": "code",
      "execution_count": 37,
      "metadata": {
        "colab": {
          "base_uri": "https://localhost:8080/",
          "height": 282
        },
        "id": "2S-JhiA5KPqF",
        "outputId": "d86ab64c-a81c-4b8d-a6c7-86b1100b8930"
      },
      "outputs": [
        {
          "output_type": "execute_result",
          "data": {
            "text/plain": [
              "[<matplotlib.lines.Line2D at 0x7f36305ea410>]"
            ]
          },
          "metadata": {},
          "execution_count": 37
        },
        {
          "output_type": "display_data",
          "data": {
            "image/png": "[encoded data removed]",
            "text/plain": [
              "<Figure size 432x288 with 1 Axes>"
            ]
          },
          "metadata": {
            "needs_background": "light"
          }
        }
      ],
      "source": [
        "# импортируем все функции библиотеки\n",
        "import matplotlib.pyplot as plt\n",
        "\n",
        "x = [1, 2, 3, 4, 5, 6, 7, 8, 9, 10]\n",
        "y = [2, 5, 7, 0, 1, 4, 4, 2, 3, 2]\n",
        "\n",
        "# Для обращения к функции plot библиотеки matplotlib используется псевдоним plt\n",
        "plt.plot(x,y)\n"
      ]
    },
    {
      "cell_type": "code",
      "source": [
        "plt.bar(x, y, color='r') # параметр color устанавливает цвет"
      ],
      "metadata": {
        "colab": {
          "base_uri": "https://localhost:8080/",
          "height": 282
        },
        "id": "ocX1bu3_U-Ds",
        "outputId": "e870d3ab-2869-4617-b117-64d6b087599f"
      },
      "execution_count": 38,
      "outputs": [
        {
          "output_type": "execute_result",
          "data": {
            "text/plain": [
              "<BarContainer object of 10 artists>"
            ]
          },
          "metadata": {},
          "execution_count": 38
        },
        {
          "output_type": "display_data",
          "data": {
            "image/png": "[encoded data removed]",
            "text/plain": [
              "<Figure size 432x288 with 1 Axes>"
            ]
          },
          "metadata": {
            "needs_background": "light"
          }
        }
      ]
    },
    {
      "cell_type": "code",
      "source": [
        "plt.scatter(x, y)"
      ],
      "metadata": {
        "colab": {
          "base_uri": "https://localhost:8080/",
          "height": 282
        },
        "id": "PD3K_9TrVsf_",
        "outputId": "d90482c0-5fb1-4fdd-c2b5-68a428a1714b"
      },
      "execution_count": 39,
      "outputs": [
        {
          "output_type": "execute_result",
          "data": {
            "text/plain": [
              "<matplotlib.collections.PathCollection at 0x7f36306b5d90>"
            ]
          },
          "metadata": {},
          "execution_count": 39
        },
        {
          "output_type": "display_data",
          "data": {
            "image/png": "[encoded data removed]",
            "text/plain": [
              "<Figure size 432x288 with 1 Axes>"
            ]
          },
          "metadata": {
            "needs_background": "light"
          }
        }
      ]
    },
    {
      "cell_type": "markdown",
      "source": [
        "### <font color='#990000'>Задание 2.</font>\n",
        "Заполните списки `coord_x ` и `coord_y` случайными вещественными числами `x` и `y` на отрезке `[-2; 2]`, так чтобы точка с координатами `(x; y)` попала в зашрихованную область (см. задание с прошлого урока). \n",
        "\n",
        "Визуализируйте данную область с помощью точечной диаграммы (`scatter`)."
      ],
      "metadata": {
        "id": "XvBPN3Y1cMqS"
      }
    },
    {
      "cell_type": "code",
      "source": [
        "# Дополните код ниже\n",
        "import matplotlib.pyplot as plt\n",
        "from random import uniform\n",
        "\n",
        "coord_x = []\n",
        "coord_y = []\n",
        "for i in range(1000):\n",
        "  x = ...\n",
        "  y = ...\n",
        "  if ...:\n",
        "    coord_x.append(...)\n",
        "    coord_y.append(...)\n",
        "\n",
        "..."
      ],
      "metadata": {
        "id": "PfSsf8TieAId"
      },
      "execution_count": null,
      "outputs": []
    }
  ]
}